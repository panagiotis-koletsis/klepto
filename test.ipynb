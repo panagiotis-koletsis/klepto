{
 "cells": [
  {
   "cell_type": "code",
   "execution_count": 17,
   "id": "a78df29f-2214-40db-aa45-c5d754ecfa9e",
   "metadata": {},
   "outputs": [],
   "source": [
    "analysis = \"\"\" \"\"\"\n",
    "text = \"6\""
   ]
  },
  {
   "cell_type": "code",
   "execution_count": 18,
   "id": "7547b1a7-2769-4511-8df0-564cc4670b73",
   "metadata": {},
   "outputs": [],
   "source": [
    "analysis = analysis + text + \"\\n------\""
   ]
  },
  {
   "cell_type": "code",
   "execution_count": 14,
   "id": "6e6787a7-b215-44dd-997e-64b26519a2b6",
   "metadata": {},
   "outputs": [
    {
     "name": "stdout",
     "output_type": "stream",
     "text": [
      " dfbnd[odfbnd[o\n",
      "dfbnd[o\n",
      "dfbnd[o\n",
      "------\n"
     ]
    }
   ],
   "source": [
    "print(analysis)"
   ]
  },
  {
   "cell_type": "code",
   "execution_count": 19,
   "id": "4785934e-8fab-4e7a-a4e8-312917738880",
   "metadata": {},
   "outputs": [],
   "source": [
    "with open(\"example.txt\", \"w\") as file:\n",
    "        file.write"
   ]
  },
  {
   "cell_type": "code",
   "execution_count": 2,
   "id": "0f1f5ee9-622c-40a4-8d11-4f0988d6bf22",
   "metadata": {},
   "outputs": [],
   "source": [
    "from langchain_community.llms.ollama import Ollama"
   ]
  },
  {
   "cell_type": "code",
   "execution_count": 7,
   "id": "a652602d-fb30-4a10-a978-678a4f63f6ff",
   "metadata": {},
   "outputs": [],
   "source": [
    "model = Ollama(model=\"Fincial-Advisor-model:latest\")\n",
    "prompt = \"\"\"The allegations of high-level corruption in the wake of the 2008 financial scandal — at\n",
    "a time when hospitals were running out of gauze and clean sheets — have set off a\n",
    "political storm and split the crisis-wracked country, as it heads toward a general\n",
    "election no later than next year.\n",
    "Advertisement\n",
    "To officials from the ruling left-wing Syriza party, they’re evidence of criminality\n",
    "among their hated predecessors from the right. To the probe’s targets, who all deny\n",
    "wrongdoing, the investigation is nothing more than an attempt to rig the coming\n",
    "election by discrediting the largest opposition parties. Novartis says it has launched its\n",
    "own investigation and won’t comment on the allegations.\n",
    "“ “If prosecutors manage to charge a former prime\n",
    "minister or other senior officials it would be a hugeblow to the opposition in Greece\" — Maria\n",
    "Gavouneli, associate professor of international\n",
    "\"\"\"\n",
    "response_text = model.invoke(prompt)"
   ]
  },
  {
   "cell_type": "code",
   "execution_count": 8,
   "id": "39c41038-6d57-4c65-92a5-347637c0f940",
   "metadata": {},
   "outputs": [
    {
     "data": {
      "text/plain": [
       "\"The case described pertains to corruption. The exact subtype is high-level political corruption. In the aftermath of the 2008 financial scandal, allegations have surfaced regarding criminal activities among former right-wing officials in Greece. These claims are causing a significant political divide as the country approaches an upcoming general election. While members of the ruling left-wing Syriza party view these accusations as evidence of their predecessors' wrongdoing, those implicated deny any misconduct and argue that the investigation is merely an attempt to discredit opposition parties ahead of the elections. Novartis has initiated its own inquiry into the matter but refrained from commenting on the allegations.\\n\""
      ]
     },
     "execution_count": 8,
     "metadata": {},
     "output_type": "execute_result"
    }
   ],
   "source": [
    "response_text"
   ]
  },
  {
   "cell_type": "code",
   "execution_count": 1,
   "id": "4c950725-58d0-4626-b90e-78fcc9f503fe",
   "metadata": {},
   "outputs": [
    {
     "name": "stdout",
     "output_type": "stream",
     "text": [
      "Defaulting to user installation because normal site-packages is not writeable\n",
      "Collecting pypdf\n",
      "  Using cached pypdf-4.2.0-py3-none-any.whl.metadata (7.4 kB)\n",
      "Requirement already satisfied: typing_extensions>=4.0 in /home/kpanag/.local/lib/python3.10/site-packages (from pypdf) (4.10.0)\n",
      "Using cached pypdf-4.2.0-py3-none-any.whl (290 kB)\n",
      "Installing collected packages: pypdf\n",
      "Successfully installed pypdf-4.2.0\n"
     ]
    }
   ],
   "source": [
    "!pip install pypdf"
   ]
  },
  {
   "cell_type": "code",
   "execution_count": 3,
   "id": "2670a339-991e-4428-a1e8-4992bc2014b2",
   "metadata": {},
   "outputs": [],
   "source": [
    "from langchain_community.document_loaders.pdf import PyPDFDirectoryLoader"
   ]
  },
  {
   "cell_type": "code",
   "execution_count": 5,
   "id": "698f3c02-f652-4e5a-b6af-cda57892bf39",
   "metadata": {},
   "outputs": [],
   "source": [
    "document_loader = PyPDFDirectoryLoader(\"/home/kpanag/kleptoPdf\")\n",
    "doc = document_loader.load()"
   ]
  },
  {
   "cell_type": "code",
   "execution_count": 12,
   "id": "010402ef-f55d-4c35-9899-ab00086a2cf1",
   "metadata": {},
   "outputs": [
    {
     "data": {
      "text/plain": [
       "Document(page_content=\"The political crisis unfolded after prosecutors published a statement detailing\\nsearches in more than 40 different premises as part of the inquiry.\\nProsecutors are investigating alleged corruption and influence peddling in lithium\\nmining concessions in northern Portugal, as well as a hydrogen production project and\\nthe planned construction of a data centre in the deep-water port of Sines, south of\\nLisbon.\\nAbout 140 detectives searched 17 residential properties and 25 other premises,\\nincluding the office of the prime minister's chief of staff and two government\\nministries.\\nThey also searched municipal offices in Sines.\\nPortugal's main PSI 20 share index was down almost 3% as the political crisis\\nunfolded.\\nThe European Union is keen to reduce its dependence on mines in China, Africa and\\nSouth America for lithium and other raw materials needed for the green energy\\ntransition.\\nPortugal's lithium reserves are considered central to Europe's increasing demand for\\nelectric cars, but exploration projects have faced opposition by some locals.\\nPortugal Corruption\\nRelated\\nMoreVillagers up in arms over plans to mine lithium\\nPortugal country profile\\nMore than 4,000 people attend\\nspring festival\\n2 days ago JerseyMadeleine's absence 'still aches',\\nsay parents\\n6 days ago LeicesterPortugal debate over colonial and\\nslavery role resurfaces\\n29 Apr 2024 Europe\\n5 days agoUS congressman and wife charged with\\ntaking bribes\\nIt is alleged the couple accepted money from an Azerbaijani government-\\nrun oil ﬁrm and a Mexican bank.\\n5 days ago US & Canada\\n24 Apr 2024Top Russian defence official accused of\\ntaking bribes\\nDeputy Defence Minister Timur Ivanov is remanded in custody in a rare\\ncase against a high-ranking oﬃcial.\\n24 Apr 2024 Europe\\n10 Apr 2024Venezuela's ex-oil minister reappears - in handcuffs\\nTareck El Aissami, a former close ally of President Maduro, has been arrested on corruption charges.Register Sign In\", metadata={'source': '/home/kpanag/kleptoPdf/Antonio Costa BBC.pdf', 'page': 1})"
      ]
     },
     "execution_count": 12,
     "metadata": {},
     "output_type": "execute_result"
    }
   ],
   "source": [
    "doc[1]"
   ]
  },
  {
   "cell_type": "code",
   "execution_count": null,
   "id": "dc312c3b-caa9-41b7-946b-40d0193085f7",
   "metadata": {},
   "outputs": [],
   "source": []
  }
 ],
 "metadata": {
  "kernelspec": {
   "display_name": "Python 3 (ipykernel)",
   "language": "python",
   "name": "python3"
  },
  "language_info": {
   "codemirror_mode": {
    "name": "ipython",
    "version": 3
   },
   "file_extension": ".py",
   "mimetype": "text/x-python",
   "name": "python",
   "nbconvert_exporter": "python",
   "pygments_lexer": "ipython3",
   "version": "3.10.12"
  }
 },
 "nbformat": 4,
 "nbformat_minor": 5
}
